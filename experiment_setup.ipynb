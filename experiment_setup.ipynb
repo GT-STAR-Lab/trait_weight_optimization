{
 "cells": [
  {
   "cell_type": "markdown",
   "id": "f581dde5",
   "metadata": {},
   "source": [
    "# Trait Weight Based Optimization"
   ]
  },
  {
   "cell_type": "code",
   "execution_count": 3,
   "id": "04c71e4e",
   "metadata": {},
   "outputs": [],
   "source": [
    "#imports required\n",
    "import numpy as np\n",
    "import numpy.random as rnd\n",
    "import scipy\n",
    "import pandas as pd\n",
    "import math\n",
    "from sklearn.preprocessing import StandardScaler\n",
    "from sklearn.decomposition import PCA\n",
    "from scipy.optimize import minimize\n",
    "from numpy import linalg as LA\n",
    "import cvxpy as cp"
   ]
  },
  {
   "cell_type": "code",
   "execution_count": 4,
   "id": "4891905c",
   "metadata": {},
   "outputs": [],
   "source": [
    "#installations\n",
    "# !pip3 install sklearn"
   ]
  },
  {
   "cell_type": "markdown",
   "id": "1757d1c7",
   "metadata": {},
   "source": [
    "### Setup"
   ]
  },
  {
   "cell_type": "markdown",
   "id": "4c4d07d6",
   "metadata": {},
   "source": [
    "We will modelling the robot team allocation to solve few independent challenges.\n",
    "\n",
    "The species will be the 20 types of robots(divided into 4 groups).For each demonstration, each type of robot from the group will be randomly assigned to the expert.\n",
    "\n",
    "There are 9 traits for each robot specie which are generic and mostly applicable to all of them. \n",
    "\n",
    "There are three task which are required to be completed with the allocation. "
   ]
  },
  {
   "cell_type": "code",
   "execution_count": 49,
   "id": "299a547a",
   "metadata": {},
   "outputs": [],
   "source": [
    "# experiment settings\n",
    "num_species = 4 #drone,rover,mini-rover,mini-drone\n",
    "num_tasks = 3  #pick,search for target,move object\n",
    "num_traits = 9 #speed,footprint,payload,reach,weight,sensing frequency,sensing range,color,battery capacity\n",
    "num_demo = 1000"
   ]
  },
  {
   "cell_type": "code",
   "execution_count": 50,
   "id": "aec75a2b",
   "metadata": {},
   "outputs": [
    {
     "data": {
      "text/plain": [
       "array([[  8.41108973,  90.36590457,   5.78922572,   2.18786945,\n",
       "         29.07967107, 221.50752109,  59.37807416,   1.        ,\n",
       "         14.        ],\n",
       "       [  4.10817297, 149.06086455,   5.90908126,   4.12432975,\n",
       "         27.94674664, 219.12846354,  58.10482788,   0.        ,\n",
       "         11.        ],\n",
       "       [  7.10151428, 127.89401355,  15.12723067,   1.24708419,\n",
       "         27.36687847, 203.00186519,  58.15604231,   1.        ,\n",
       "         16.        ],\n",
       "       [ 11.56845354,  79.71122655,   8.62953763,   8.1132141 ,\n",
       "         28.71544159, 243.96353961,  59.5151287 ,   0.        ,\n",
       "         12.        ]])"
      ]
     },
     "execution_count": 50,
     "metadata": {},
     "output_type": "execute_result"
    }
   ],
   "source": [
    "total_num_species = 4\n",
    "rng = rnd.default_rng()\n",
    "q_1 = np.concatenate([rng.normal(10,1, size=1),rng.normal(5, 1, size=1),rng.normal(7, 1, size=1),rng.normal(15, 2, size=1)])#speed\n",
    "q_2 = np.concatenate([rng.normal(90,5, size=1),rng.normal(150, 9, size=1),rng.normal(120, 10, size=1),rng.normal(75, 12, size=1)]) #footprint\n",
    "q_3 = np.concatenate([rng.normal(8,2, size=1),rng.normal(5, 1, size=1),rng.normal(16, 1, size=1),rng.normal(7, 2, size=1)]) #payload\n",
    "q_4 = np.concatenate([rng.normal(2,1, size=1),rng.normal(3, 1, size=1),rng.normal(2, 1, size=1),rng.normal(3, 2, size=1)]) #reach\n",
    "q_5 = rng.normal(np.random.randint(25,30), 1, size=total_num_species) #weight\n",
    "q_6 = rng.normal(np.random.randint(210,230), 15.4, size=total_num_species) #sensing frequency\n",
    "q_7 = rng.normal(np.random.randint(58,60), 0.8, size=total_num_species) #sensing range\n",
    "q_8 = rnd.choice([0,1,2,3,4], total_num_species) #color\n",
    "q_9 = rnd.choice(range(10,20), total_num_species) #battery\n",
    "Q = np.array([q_1, q_2, q_3, q_4, q_5, q_6, q_7, q_8, q_9]).T\n",
    "Q"
   ]
  },
  {
   "cell_type": "code",
   "execution_count": 51,
   "id": "dc61ddf9",
   "metadata": {},
   "outputs": [],
   "source": [
    "# total_num_species = 20\n",
    "\n",
    "# rng = rnd.default_rng()\n",
    "# q_1 = np.concatenate([rng.normal(10,1, size=5),rng.normal(5, 1, size=5),rng.normal(7, 1, size=5),rng.normal(15, 2, size=5)])#speed\n",
    "# q_2 = np.concatenate([rng.normal(90,5, size=5),rng.normal(150, 9, size=5),rng.normal(120, 10, size=5),rng.normal(75, 12, size=5)]) #footprint\n",
    "# q_3 = np.concatenate([rng.normal(8,2, size=5),rng.normal(5, 1, size=5),rng.normal(16, 1, size=5),rng.normal(7, 2, size=5)]) #payload\n",
    "# q_4 = np.concatenate([rng.normal(2,1, size=5),rng.normal(3, 1, size=5),rng.normal(2, 1, size=5),rng.normal(3, 2, size=5)]) #reach\n",
    "# q_5 = rng.normal(np.random.randint(25,30), 1, size=total_num_species) #weight\n",
    "# q_6 = rng.normal(np.random.randint(210,230), 15.4, size=total_num_species) #sensing frequency\n",
    "# q_7 = rng.normal(np.random.randint(58,60), 0.8, size=total_num_species) #sensing range\n",
    "# q_8 = rnd.choice([0,1,2,3,4], total_num_species) #color\n",
    "# q_9 = rnd.choice(range(10,20), total_num_species) #battery\n",
    "# Q_master = np.array([q_1, q_2, q_3, q_4, q_5, q_6, q_7, q_8, q_9])\n",
    "\n",
    "# a = rnd.randint(0,5)\n",
    "# b = rnd.randint(5,10)\n",
    "# c = rnd.randint(10,15)\n",
    "# d = rnd.randint(15,20)\n",
    "# indx = np.array([a,b,c,d])\n",
    "# print(indx)\n",
    "# Q = Q_master[:, indx].T\n",
    "# Q"
   ]
  },
  {
   "cell_type": "code",
   "execution_count": 52,
   "id": "1a793e92",
   "metadata": {},
   "outputs": [],
   "source": [
    "# np.set_printoptions(precision=2)\n",
    "# print(Q_master.shape)\n",
    "# Q_master"
   ]
  },
  {
   "cell_type": "code",
   "execution_count": 53,
   "id": "62ab074f",
   "metadata": {},
   "outputs": [
    {
     "data": {
      "text/plain": [
       "array([[1, 0, 1, 1, 0, 1, 1, 0, 0],\n",
       "       [0, 1, 0, 0, 0, 1, 1, 0, 1],\n",
       "       [1, 1, 1, 1, 1, 1, 0, 0, 1]])"
      ]
     },
     "execution_count": 53,
     "metadata": {},
     "output_type": "execute_result"
    }
   ],
   "source": [
    "#speed,footprint,payload,reach,weight,sensing frequency,sensing range,color,battery capacity\n",
    "y1 = [1,0,1,1,0,1,1,0,0]#pick\n",
    "y2 = [0,1,0,0,0,1,1,0,1]#search for target\n",
    "y3 = [1,1,1,1,1,1,0,0,1]#move object\n",
    "y_star = np.array([y1,y2,y3])\n",
    "y_star"
   ]
  },
  {
   "cell_type": "code",
   "execution_count": 54,
   "id": "6790c9e3",
   "metadata": {},
   "outputs": [],
   "source": [
    "def minimize_func(input_x):\n",
    "    x = input_x.reshape((3,4))\n",
    "    diff = (y_star - x@Q)\n",
    "    return LA.norm(diff,2)"
   ]
  },
  {
   "cell_type": "code",
   "execution_count": 55,
   "id": "d2e9956d",
   "metadata": {},
   "outputs": [
    {
     "data": {
      "text/plain": [
       "array([[0, 0, 0, 0],\n",
       "       [0, 1, 1, 0],\n",
       "       [1, 1, 1, 0]])"
      ]
     },
     "execution_count": 55,
     "metadata": {},
     "output_type": "execute_result"
    }
   ],
   "source": [
    "x = np.random.randint(0,2,size = (3,4))\n",
    "in_x = x.flatten()\n",
    "x"
   ]
  },
  {
   "cell_type": "code",
   "execution_count": 56,
   "id": "c6f97ba2",
   "metadata": {},
   "outputs": [
    {
     "data": {
      "text/plain": [
       "926.3212467020619"
      ]
     },
     "execution_count": 56,
     "metadata": {},
     "output_type": "execute_result"
    }
   ],
   "source": [
    "minimize_func(in_x)"
   ]
  },
  {
   "cell_type": "code",
   "execution_count": 61,
   "id": "5bf5999d",
   "metadata": {},
   "outputs": [
    {
     "data": {
      "text/plain": [
       "array([[ 2.18141819e-02,  1.63422440e-07, -4.64204219e-08,\n",
       "         1.19426243e-10],\n",
       "       [-2.42518896e+00, -1.62231693e-01,  1.18357051e+00,\n",
       "         1.30508550e+00],\n",
       "       [-2.45918863e+00, -5.28585080e-01,  1.28641752e+00,\n",
       "         1.71841150e+00]])"
      ]
     },
     "execution_count": 61,
     "metadata": {},
     "output_type": "execute_result"
    }
   ],
   "source": [
    "res = minimize(minimize_func, in_x, method='Powell', tol=1e-6)\n",
    "# print(res)\n",
    "X_app = np.array(res.x).reshape((3,4))\n",
    "# X_app[X_app<0] = 0\n",
    "X_app"
   ]
  },
  {
   "cell_type": "code",
   "execution_count": 64,
   "id": "c96d54c8",
   "metadata": {},
   "outputs": [
    {
     "name": "stdout",
     "output_type": "stream",
     "text": [
      "[[  0.18348138   1.97127671   0.12628749   0.0477272    0.63435254\n",
      "    4.83203178   1.29529092   0.02181414   0.3053996 ]\n",
      " [  2.43800604  12.06475802  14.16782195   6.08935632  -5.19080856\n",
      "  -14.0868775   -6.92538648  -1.24161845  -1.13903993]\n",
      " [  6.15890073   0.48363314  16.92878092   7.98566848  -1.73445309\n",
      "   19.8180919    0.34920274  -1.17277112   0.96054148]]\n",
      "37.46546779097942\n"
     ]
    },
    {
     "data": {
      "text/plain": [
       "1992.0933974638913"
      ]
     },
     "execution_count": 64,
     "metadata": {},
     "output_type": "execute_result"
    }
   ],
   "source": [
    "print(X_app.dot(Q))\n",
    "Y = X_app.dot(Q)\n",
    "print(LA.norm(y_star-Y))\n",
    "\n",
    "Y2 = abs(X_app).dot(Q)\n",
    "LA.norm(y_star-Y2)\n",
    "\n"
   ]
  },
  {
   "cell_type": "code",
   "execution_count": 59,
   "id": "5cbe0c3d",
   "metadata": {},
   "outputs": [
    {
     "ename": "NameError",
     "evalue": "name 'cvxpy' is not defined",
     "output_type": "error",
     "traceback": [
      "\u001b[0;31m---------------------------------------------------------------------------\u001b[0m",
      "\u001b[0;31mNameError\u001b[0m                                 Traceback (most recent call last)",
      "\u001b[0;32m<ipython-input-59-02ba3096f9fa>\u001b[0m in \u001b[0;36m<module>\u001b[0;34m\u001b[0m\n\u001b[0;32m----> 1\u001b[0;31m \u001b[0mX\u001b[0m \u001b[0;34m=\u001b[0m \u001b[0mcvxpy\u001b[0m\u001b[0;34m.\u001b[0m\u001b[0mVariable\u001b[0m\u001b[0;34m(\u001b[0m\u001b[0;34m(\u001b[0m\u001b[0mnum_tasks\u001b[0m\u001b[0;34m,\u001b[0m \u001b[0mnum_species\u001b[0m\u001b[0;34m)\u001b[0m\u001b[0;34m,\u001b[0m \u001b[0minteger\u001b[0m\u001b[0;34m=\u001b[0m\u001b[0;32mTrue\u001b[0m\u001b[0;34m)\u001b[0m\u001b[0;34m\u001b[0m\u001b[0;34m\u001b[0m\u001b[0m\n\u001b[0m\u001b[1;32m      2\u001b[0m \u001b[0mobjective\u001b[0m \u001b[0;34m=\u001b[0m \u001b[0mcp\u001b[0m\u001b[0;34m.\u001b[0m\u001b[0mMinimize\u001b[0m\u001b[0;34m(\u001b[0m\u001b[0mcp\u001b[0m\u001b[0;34m.\u001b[0m\u001b[0msum_squares\u001b[0m\u001b[0;34m(\u001b[0m\u001b[0mA\u001b[0m \u001b[0;34m@\u001b[0m \u001b[0mx\u001b[0m \u001b[0;34m-\u001b[0m \u001b[0mb\u001b[0m\u001b[0;34m)\u001b[0m\u001b[0;34m)\u001b[0m\u001b[0;34m\u001b[0m\u001b[0;34m\u001b[0m\u001b[0m\n\u001b[1;32m      3\u001b[0m \u001b[0mconstraints\u001b[0m \u001b[0;34m=\u001b[0m \u001b[0;34m[\u001b[0m\u001b[0;36m0\u001b[0m \u001b[0;34m<=\u001b[0m \u001b[0mx\u001b[0m\u001b[0;34m,\u001b[0m \u001b[0mx\u001b[0m \u001b[0;34m<=\u001b[0m \u001b[0;36m1\u001b[0m\u001b[0;34m]\u001b[0m\u001b[0;34m\u001b[0m\u001b[0;34m\u001b[0m\u001b[0m\n\u001b[1;32m      4\u001b[0m \u001b[0mprob\u001b[0m \u001b[0;34m=\u001b[0m \u001b[0mcp\u001b[0m\u001b[0;34m.\u001b[0m\u001b[0mProblem\u001b[0m\u001b[0;34m(\u001b[0m\u001b[0mobjective\u001b[0m\u001b[0;34m,\u001b[0m \u001b[0mconstraints\u001b[0m\u001b[0;34m)\u001b[0m\u001b[0;34m\u001b[0m\u001b[0;34m\u001b[0m\u001b[0m\n",
      "\u001b[0;31mNameError\u001b[0m: name 'cvxpy' is not defined"
     ]
    }
   ],
   "source": [
    "X = cvxpy.Variable((num_tasks, num_species), integer=True)\n",
    "objective = cp.Minimize(cp.sum_squares(A @ x - b))\n",
    "constraints = [0 <= x, x <= 1]\n",
    "prob = cp.Problem(objective, constraints)"
   ]
  },
  {
   "cell_type": "markdown",
   "id": "433ad95c",
   "metadata": {},
   "source": [
    "array([2., 1., 0., 1., 1., 1., 0., 0., 1., 0., 1., 0.])\n"
   ]
  }
 ],
 "metadata": {
  "kernelspec": {
   "display_name": "Python 3",
   "language": "python",
   "name": "python3"
  },
  "language_info": {
   "codemirror_mode": {
    "name": "ipython",
    "version": 3
   },
   "file_extension": ".py",
   "mimetype": "text/x-python",
   "name": "python",
   "nbconvert_exporter": "python",
   "pygments_lexer": "ipython3",
   "version": "3.6.9"
  }
 },
 "nbformat": 4,
 "nbformat_minor": 5
}
