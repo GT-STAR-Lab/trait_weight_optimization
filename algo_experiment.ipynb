{
 "cells": [
  {
   "cell_type": "code",
   "execution_count": 4,
   "metadata": {},
   "outputs": [],
   "source": [
    "import numpy as np\n",
    "import numpy.random as rnd\n",
    "import scipy\n",
    "import pandas as pd\n",
    "import math\n",
    "from sklearn.preprocessing import StandardScaler\n",
    "from sklearn.decomposition import PCA\n",
    "from scipy.optimize import minimize\n",
    "from numpy import linalg as LA\n",
    "import cvxpy as cp\n",
    "import matplotlib.pyplot as plt\n",
    "\n",
    "import os\n",
    "import sys\n",
    "module_path = os.path.abspath(os.path.join('..'))\n",
    "if module_path not in sys.path:\n",
    "    sys.path.append(module_path)\n"
   ]
  },
  {
   "cell_type": "code",
   "execution_count": 5,
   "metadata": {},
   "outputs": [],
   "source": [
    "from exp_setup import Experiment"
   ]
  },
  {
   "cell_type": "code",
   "execution_count": 6,
   "metadata": {},
   "outputs": [],
   "source": [
    "from algorithms import *"
   ]
  },
  {
   "cell_type": "code",
   "execution_count": 7,
   "metadata": {},
   "outputs": [],
   "source": [
    "num_species = 4 #drone,rover,mini-rover,mini-drone\n",
    "num_tasks = 3  #pick,search for target,move object\n",
    "num_traits = 9 #speed,footprint,payload,reach,weight,sensing frequency,sensing range,color,battery capacity\n",
    "traits = [\"speed\",\"footprint\",\"payload\",\"reach\",\"weight\",\"sensing frequency\",\"sensing range\",\"color\",\"battery\"]\n",
    "num_demo = 1000"
   ]
  },
  {
   "cell_type": "code",
   "execution_count": 8,
   "metadata": {},
   "outputs": [],
   "source": [
    "exp = Experiment()\n",
    "D = exp.get_expert_demonstrations()"
   ]
  },
  {
   "cell_type": "code",
   "execution_count": 115,
   "metadata": {},
   "outputs": [
    {
     "data": {
      "text/plain": [
       "array([[  8.66002208,  89.87356781,   8.32657535,   1.11629356,\n",
       "         25.95750418, 183.5444571 ,  59.01794731,   0.        ,\n",
       "         12.        ],\n",
       "       [  6.23672893, 136.34302107,   3.8647693 ,   1.5398084 ,\n",
       "         26.25056173, 234.2447839 ,  60.10517307,   1.        ,\n",
       "         12.        ],\n",
       "       [  6.72051716, 107.69444947,  16.27204719,   1.95470247,\n",
       "         26.99182765, 261.09833978,  59.49202801,   4.        ,\n",
       "         11.        ],\n",
       "       [ 16.84758602,  91.80880827,  11.02789632,   3.84383249,\n",
       "         26.01533541, 209.16171698,  58.8684424 ,   1.        ,\n",
       "         13.        ]])"
      ]
     },
     "execution_count": 115,
     "metadata": {},
     "output_type": "execute_result"
    }
   ],
   "source": [
    "new_Q = exp.get_random_q()\n",
    "optimal_Y = exp.get_optimal_Y()\n",
    "agents_target = exp.get_agent_limit()\n",
    "Q = D[\"Q\"]\n",
    "Y = D[\"Y\"]\n",
    "Y_mean = np.mean(Y, axis=0)\n",
    "new_Q"
   ]
  },
  {
   "cell_type": "code",
   "execution_count": 116,
   "metadata": {},
   "outputs": [
    {
     "name": "stdout",
     "output_type": "stream",
     "text": [
      "mat [[0. 0. 4. 7.]\n",
      " [4. 5. 3. 1.]\n",
      " [1. 3. 0. 0.]]\n",
      "task based [array([-0., -0.,  4.,  7.]), array([4., 5., 3., 1.]), array([ 1.,  3., -0., -0.])]\n"
     ]
    }
   ],
   "source": [
    "X_mat = solve_task_allocation(agents_target,new_Q,Y_mean)\n",
    "print(\"mat\" , X_mat)\n",
    "\n",
    "X_per_task = solve_task_allocation_per_task(agents_target,new_Q,Y_mean)\n",
    "print(\"task based\" , X_per_task)"
   ]
  },
  {
   "cell_type": "code",
   "execution_count": 117,
   "metadata": {},
   "outputs": [
    {
     "name": "stdout",
     "output_type": "stream",
     "text": [
      "0.392649698918157\n",
      "0.392649698918157\n"
     ]
    }
   ],
   "source": [
    "Y_mat = X_mat@new_Q\n",
    "print(LA.norm(optimal_Y-Y_mat, 2)/LA.norm(optimal_Y,2))\n",
    "\n",
    "Y_per_task = X_per_task@new_Q\n",
    "print(LA.norm(optimal_Y-Y_per_task, 2)/LA.norm(optimal_Y,2))\n"
   ]
  },
  {
   "cell_type": "markdown",
   "metadata": {},
   "source": [
    "Baseline : Weighted optimization"
   ]
  },
  {
   "cell_type": "code",
   "execution_count": 118,
   "metadata": {},
   "outputs": [
    {
     "name": "stdout",
     "output_type": "stream",
     "text": [
      "[[ 542.19574868 7352.11974886  454.78414421  404.22988833  660.02095334\n",
      "  6011.06031257 1645.93733022  196.0255839   877.0969751 ]\n",
      " [ 224.30108478 1156.26341011  766.19473029   97.64859299  649.71067912\n",
      "  3197.9249996  1220.76916463  166.062636    778.54375658]\n",
      " [  25.28578288 4314.70272239  172.62686286   17.01016715  148.63996863\n",
      "  3219.62047118  466.85288685   30.82281603  150.84150377]]\n",
      "[1.61284264e+01 1.13233642e+03 2.00037653e+01 2.02320772e+00\n",
      " 3.01499114e+00 2.77705823e+02 9.06265597e-01 1.98499100e+00\n",
      " 8.13375900e+00]\n"
     ]
    }
   ],
   "source": [
    "Q_D = np.concatenate(Q)\n",
    "var_N = np.var(Q_D,axis=0)\n",
    "var_O = np.var(Y,axis=0)\n",
    "print(var_O)\n",
    "print(var_N)"
   ]
  },
  {
   "cell_type": "code",
   "execution_count": 163,
   "metadata": {},
   "outputs": [
    {
     "name": "stdout",
     "output_type": "stream",
     "text": [
      "[[0.06882699 0.05156232 0.12437458 0.29508669 0.0399809  0.01433228\n",
      "  0.02905381 0.29182208 0.08496035]\n",
      " [0.0902492  0.01561608 0.16798976 0.21326497 0.04796768 0.01310454\n",
      "  0.03021464 0.32468382 0.09690931]\n",
      " [0.10069277 0.04467602 0.2255371  0.14520248 0.04670924 0.02796126\n",
      "  0.03808487 0.28481125 0.086325  ]]\n",
      "[0.1516066  0.10952802 0.17331303 0.19689246 0.02252941 0.02649311\n",
      " 0.00568603 0.24563681 0.06831452]\n"
     ]
    }
   ],
   "source": [
    "cv_N = np.sqrt(var_N)/np.mean(Q_D,axis=0)\n",
    "cv_O = np.sqrt(var_O)/Y_mean\n",
    "\n",
    "norm_var_N = cv_N/np.sum(cv_N)\n",
    "norm_var_O = cv_O\n",
    "for m in range(num_tasks):\n",
    "    norm_var_O[m] /= np.sum(cv_O[m])\n",
    "\n",
    "print(norm_var_O)\n",
    "print(norm_var_N)\n",
    "\n",
    "# print(np.sum(norm_var_O,axis=1))\n",
    "# print(np.sum(norm_var_N))"
   ]
  },
  {
   "cell_type": "code",
   "execution_count": 120,
   "metadata": {},
   "outputs": [],
   "source": [
    "def calculate_weight(natural_variance, observerd_variance):\n",
    "    weights = []\n",
    "    for i in range(num_traits):\n",
    "        weights.append((natural_variance[i])*math.cos(2*observerd_variance[i]) + 0.5)\n",
    "    \n",
    "    return weights"
   ]
  },
  {
   "cell_type": "code",
   "execution_count": 129,
   "metadata": {},
   "outputs": [
    {
     "name": "stdout",
     "output_type": "stream",
     "text": [
      "[[0.6501724942776326, 0.6089461358550492, 0.6679786520066902, 0.6635869623316206, 0.5224574236367432, 0.5264822296829017, 0.5056764373974132, 0.7049740955673216, 0.567330669454948], [0.6491436464393557, 0.6094746031781509, 0.6636227231086642, 0.679252245837195, 0.522425814287802, 0.5264840143137335, 0.5056756554476783, 0.6956414494760359, 0.5670353947986158], [0.6485426825656173, 0.6090910848376068, 0.6559781483865639, 0.6886481831628019, 0.5224311747811942, 0.5264516975282775, 0.5056695473987821, 0.7068518936823192, 0.5672988890859132]]\n"
     ]
    }
   ],
   "source": [
    "w = [calculate_weight(norm_var_N,norm_var_O[m]) for m in range(num_tasks)]\n",
    "print(w)\n",
    "sum_w = np.sum(w,axis=1)\n",
    "\n",
    "for m in range(num_tasks):\n",
    "    w[m] /= sum_w[m]\n",
    "\n",
    "# print(w)"
   ]
  },
  {
   "cell_type": "code",
   "execution_count": 122,
   "metadata": {},
   "outputs": [
    {
     "data": {
      "text/plain": [
       "[array([ 0., -0.,  4.,  7.]), array([4., 5., 3., 1.]), array([0., 4., 0., 0.])]"
      ]
     },
     "execution_count": 122,
     "metadata": {},
     "output_type": "execute_result"
    }
   ],
   "source": [
    "X = []\n",
    "for m in range(num_tasks):\n",
    "        X_sol = cp.Variable((num_species), integer=True)\n",
    "\n",
    "        # minimize trait mismatch\n",
    "        mismatch_mat = w[m]*Y_mean[m] - cp.multiply(w[m],cp.matmul(new_Q.T,X_sol))  # trait mismatch matrix\n",
    "        # print(mismatch_mat.shape)\n",
    "        # weighted_mat = cp.matmul(mismatch_mat, cp.matmul(W[m],mismatch_mat.T))\n",
    "        # print(w[m],mismatch_mat)\n",
    "        obj = cp.Minimize(cp.norm2(mismatch_mat))\n",
    "        # ensure each agent is only assigned to one task\n",
    "        constraints = [X_sol <= np.array(agents_target), X_sol >= 0]\n",
    "\n",
    "        # solve for X_target\n",
    "        opt_prob = cp.Problem(obj, constraints)\n",
    "        opt_prob.solve(solver=cp.CPLEX)\n",
    "        X_target = X_sol.value\n",
    "        X.append(np.round(X_target))\n",
    "X"
   ]
  },
  {
   "cell_type": "code",
   "execution_count": 123,
   "metadata": {},
   "outputs": [
    {
     "data": {
      "text/plain": [
       "0.3911602050336385"
      ]
     },
     "execution_count": 123,
     "metadata": {},
     "output_type": "execute_result"
    }
   ],
   "source": [
    "Y_baseline1 = X@new_Q\n",
    "LA.norm(optimal_Y-Y_baseline1, 2)/LA.norm(optimal_Y,2)"
   ]
  },
  {
   "cell_type": "markdown",
   "metadata": {},
   "source": [
    "Baseline : Weighted optimization - Reduced Dimensions"
   ]
  },
  {
   "cell_type": "code",
   "execution_count": 160,
   "metadata": {},
   "outputs": [
    {
     "name": "stdout",
     "output_type": "stream",
     "text": [
      "[5 4 6 8 1 3 2 7 0]\n",
      "[5 4 6 8 1 3 2 7 0]\n",
      "[5 4 6 8 1 3 2 7 0]\n",
      "[array([0.13292909, 0.12450027, 0.13656959, 0.1356717 , 0.10681748,\n",
      "       0.        , 0.10338657, 0.14413338, 0.11599191]), array([0.13268758, 0.12457906, 0.13564716, 0.13884189, 0.10678594,\n",
      "       0.        , 0.10336214, 0.14219191, 0.11590432]), array([0.1322339 , 0.12418996, 0.13374994, 0.14041116, 0.10652053,\n",
      "       0.        , 0.10310294, 0.14412279, 0.11566878])]\n"
     ]
    }
   ],
   "source": [
    "w_new = [calculate_weight(norm_var_N,norm_var_O[m]) for m in range(num_tasks)]\n",
    "for m in range(num_tasks):\n",
    "    idx = np.argpartition(w[m], 3)\n",
    "    print(idx)\n",
    "    for i in range(1):\n",
    "        w_new[m][idx[i]] = 0\n",
    "sum_w_new = np.sum(w_new,axis=1)\n",
    "\n",
    "for m in range(num_tasks):\n",
    "    w_new[m] /= sum_w_new[m]\n",
    "\n",
    "print(w_new)"
   ]
  },
  {
   "cell_type": "code",
   "execution_count": 161,
   "metadata": {},
   "outputs": [
    {
     "data": {
      "text/plain": [
       "[array([ 3., -0., -0.,  7.]), array([3., 5., 3., 2.]), array([0., 4., 0., 0.])]"
      ]
     },
     "execution_count": 161,
     "metadata": {},
     "output_type": "execute_result"
    }
   ],
   "source": [
    "X_baseline2 = []\n",
    "for m in range(num_tasks):\n",
    "        X_sol = cp.Variable((num_species), integer=True)\n",
    "        # minimize trait mismatch\n",
    "        mismatch_mat = w_new[m]*Y_mean[m] - cp.matmul(cp.multiply(np.tile(w_new[m],(num_species,1)),new_Q).T,X_sol)  # trait mismatch matrix\n",
    "        # print(mismatch_mat)\n",
    "        # weighted_mat = cp.matmul(mismatch_mat, cp.matmul(W[m],mismatch_mat.T))\n",
    "        # print(w[m],mismatch_mat)\n",
    "        obj = cp.Minimize(cp.norm2(mismatch_mat))\n",
    "        # ensure each agent is only assigned to one task\n",
    "        constraints = [X_sol <= np.array(agents_target), X_sol >= 0]\n",
    "\n",
    "        # solve for X_target\n",
    "        opt_prob = cp.Problem(obj, constraints)\n",
    "        opt_prob.solve(solver=cp.CPLEX)\n",
    "        X_target = X_sol.value\n",
    "        X_baseline2.append(np.round(X_target))\n",
    "X_baseline2"
   ]
  },
  {
   "cell_type": "code",
   "execution_count": 162,
   "metadata": {},
   "outputs": [
    {
     "data": {
      "text/plain": [
       "0.4166349407855685"
      ]
     },
     "execution_count": 162,
     "metadata": {},
     "output_type": "execute_result"
    }
   ],
   "source": [
    "Y_baseline2 = X_baseline2@new_Q\n",
    "LA.norm(optimal_Y-Y_baseline2, 2)/LA.norm(optimal_Y,2)"
   ]
  },
  {
   "cell_type": "code",
   "execution_count": null,
   "metadata": {},
   "outputs": [],
   "source": []
  }
 ],
 "metadata": {
  "interpreter": {
   "hash": "31f2aee4e71d21fbe5cf8b01ff0e069b9275f58929596ceb00d14d90e3e16cd6"
  },
  "kernelspec": {
   "display_name": "Python 3.6.9 64-bit",
   "language": "python",
   "name": "python3"
  },
  "language_info": {
   "codemirror_mode": {
    "name": "ipython",
    "version": 3
   },
   "file_extension": ".py",
   "mimetype": "text/x-python",
   "name": "python",
   "nbconvert_exporter": "python",
   "pygments_lexer": "ipython3",
   "version": "3.6.9"
  },
  "orig_nbformat": 4
 },
 "nbformat": 4,
 "nbformat_minor": 2
}
