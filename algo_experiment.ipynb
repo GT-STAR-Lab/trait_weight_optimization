{
 "cells": [
  {
   "cell_type": "code",
   "execution_count": 1,
   "metadata": {},
   "outputs": [],
   "source": [
    "import numpy as np\n",
    "import numpy.random as rnd\n",
    "import scipy\n",
    "import pandas as pd\n",
    "import math\n",
    "from sklearn.preprocessing import StandardScaler\n",
    "from sklearn.decomposition import PCA\n",
    "from scipy.optimize import minimize\n",
    "from numpy import linalg as LA\n",
    "import cvxpy as cp\n",
    "import matplotlib.pyplot as plt\n",
    "\n",
    "import os\n",
    "import sys\n",
    "module_path = os.path.abspath(os.path.join('..'))\n",
    "if module_path not in sys.path:\n",
    "    sys.path.append(module_path)\n"
   ]
  },
  {
   "cell_type": "code",
   "execution_count": 11,
   "metadata": {},
   "outputs": [],
   "source": [
    "from exp_setup import Experiment"
   ]
  },
  {
   "cell_type": "code",
   "execution_count": 3,
   "metadata": {},
   "outputs": [],
   "source": [
    "from algorithms import *"
   ]
  },
  {
   "cell_type": "code",
   "execution_count": 4,
   "metadata": {},
   "outputs": [],
   "source": [
    "num_species = 4 #drone,rover,mini-rover,mini-drone\n",
    "num_tasks = 3  #pick,search for target,move object\n",
    "num_traits = 9 #speed,footprint,payload,reach,weight,sensing frequency,sensing range,color,battery capacity\n",
    "traits = [\"speed\",\"footprint\",\"payload\",\"reach\",\"weight\",\"sensing frequency\",\"sensing range\",\"color\",\"battery\"]\n",
    "num_demo = 1000"
   ]
  },
  {
   "cell_type": "code",
   "execution_count": 5,
   "metadata": {},
   "outputs": [],
   "source": [
    "exp = Experiment()\n",
    "D = exp.get_expert_demonstrations()"
   ]
  },
  {
   "cell_type": "code",
   "execution_count": 21,
   "metadata": {},
   "outputs": [
    {
     "data": {
      "text/plain": [
       "array([[  9.23459262,  87.31264947,   8.61065748,   1.15583504,\n",
       "         26.85296609, 214.64485234,  58.36983768,   2.        ,\n",
       "         18.        ],\n",
       "       [  4.59852235, 135.25506881,   3.31303991,   2.25062842,\n",
       "         26.63073849, 196.09072662,  58.21801235,   0.        ,\n",
       "         16.        ],\n",
       "       [  6.9029882 , 118.8952442 ,  15.51899725,   1.96853678,\n",
       "         27.6905935 , 255.1398822 ,  58.90387257,   1.        ,\n",
       "         16.        ],\n",
       "       [ 12.44834684,  79.75577512,   9.02910972,   0.56634217,\n",
       "         26.41638599, 224.76446829,  58.68997651,   0.        ,\n",
       "         19.        ]])"
      ]
     },
     "execution_count": 21,
     "metadata": {},
     "output_type": "execute_result"
    }
   ],
   "source": [
    "new_Q = exp.get_random_q()\n",
    "agents_target = exp.get_agent_limit()\n",
    "Q = D[\"Q\"]\n",
    "Y_mean = np.mean(D[\"Y\"], axis=0)\n",
    "new_Q"
   ]
  },
  {
   "cell_type": "code",
   "execution_count": 22,
   "metadata": {},
   "outputs": [
    {
     "name": "stdout",
     "output_type": "stream",
     "text": [
      "mat [[ 0.  0.  1. 10.]\n",
      " [ 5.  4.  4.  0.]\n",
      " [ 0.  4.  0.  0.]]\n"
     ]
    }
   ],
   "source": [
    "X_mat = solve_task_allocation(agents_target,new_Q,Y_mean)\n",
    "print(\"mat\" , X_mat)"
   ]
  },
  {
   "cell_type": "code",
   "execution_count": 23,
   "metadata": {},
   "outputs": [
    {
     "name": "stdout",
     "output_type": "stream",
     "text": [
      "task based [array([ 0.,  0.,  1., 10.]), array([5., 4., 4., 0.]), array([0., 4., 0., 0.])]\n"
     ]
    }
   ],
   "source": [
    "X_per_task = solve_task_allocation_per_task(agents_target,new_Q,Y_mean)\n",
    "print(\"task based\" , X_per_task)"
   ]
  },
  {
   "cell_type": "code",
   "execution_count": 24,
   "metadata": {},
   "outputs": [
    {
     "name": "stdout",
     "output_type": "stream",
     "text": [
      "[[1.31386457e+02 9.16452995e+02 1.05810094e+02 7.63195844e+00\n",
      "  2.91854453e+02 2.50278457e+03 6.45803638e+02 1.00000000e+00\n",
      "  2.06000000e+02]\n",
      " [9.21790053e+01 1.45316450e+03 1.18381436e+02 2.26558360e+01\n",
      "  3.51550158e+02 2.87814670e+03 7.60336728e+02 1.40000000e+01\n",
      "  2.18000000e+02]\n",
      " [1.83940894e+01 5.41020275e+02 1.32521596e+01 9.00251367e+00\n",
      "  1.06522954e+02 7.84362906e+02 2.32872049e+02 0.00000000e+00\n",
      "  6.40000000e+01]]\n",
      "[[1.31386457e+02 9.16452995e+02 1.05810094e+02 7.63195844e+00\n",
      "  2.91854453e+02 2.50278457e+03 6.45803638e+02 1.00000000e+00\n",
      "  2.06000000e+02]\n",
      " [9.21790053e+01 1.45316450e+03 1.18381436e+02 2.26558360e+01\n",
      "  3.51550158e+02 2.87814670e+03 7.60336728e+02 1.40000000e+01\n",
      "  2.18000000e+02]\n",
      " [1.83940894e+01 5.41020275e+02 1.32521596e+01 9.00251367e+00\n",
      "  1.06522954e+02 7.84362906e+02 2.32872049e+02 0.00000000e+00\n",
      "  6.40000000e+01]]\n"
     ]
    }
   ],
   "source": [
    "Y_mat = X_mat@new_Q\n",
    "print(Y_mat)\n",
    "\n",
    "Y_per_task = X_per_task@new_Q\n",
    "print(Y_per_task)"
   ]
  },
  {
   "cell_type": "code",
   "execution_count": 25,
   "metadata": {},
   "outputs": [],
   "source": [
    "optimal_Y = np.array([[ 122.53839519, 0., 119.39044525, 32.15983648, 360.87624558, 2920.25543052, 768.93055775, 0., 0.],\n",
    "                                   [ 120.64147124, 1433.4094241 ,  0.,   0., 358.13547136, 2906.93229221,  766.11629311,   0., 190.],\n",
    "                                   [ 122.31492305, 1441.74082593,  119.06910271,   0., 358.78852644, 0. ,  769.11520065,   0., 193.]])\n"
   ]
  },
  {
   "cell_type": "code",
   "execution_count": 26,
   "metadata": {},
   "outputs": [
    {
     "data": {
      "text/plain": [
       "0.36131178575726414"
      ]
     },
     "execution_count": 26,
     "metadata": {},
     "output_type": "execute_result"
    }
   ],
   "source": [
    "LA.norm(optimal_Y-Y_per_task, 2)/LA.norm(optimal_Y,2)"
   ]
  },
  {
   "cell_type": "code",
   "execution_count": 27,
   "metadata": {},
   "outputs": [
    {
     "data": {
      "text/plain": [
       "0.36131178575726414"
      ]
     },
     "execution_count": 27,
     "metadata": {},
     "output_type": "execute_result"
    }
   ],
   "source": [
    "LA.norm(optimal_Y-Y_mat, 2)/LA.norm(optimal_Y,2)"
   ]
  },
  {
   "cell_type": "code",
   "execution_count": null,
   "metadata": {},
   "outputs": [],
   "source": []
  }
 ],
 "metadata": {
  "interpreter": {
   "hash": "31f2aee4e71d21fbe5cf8b01ff0e069b9275f58929596ceb00d14d90e3e16cd6"
  },
  "kernelspec": {
   "display_name": "Python 3.6.9 64-bit",
   "language": "python",
   "name": "python3"
  },
  "language_info": {
   "codemirror_mode": {
    "name": "ipython",
    "version": 3
   },
   "file_extension": ".py",
   "mimetype": "text/x-python",
   "name": "python",
   "nbconvert_exporter": "python",
   "pygments_lexer": "ipython3",
   "version": "3.6.9"
  },
  "orig_nbformat": 4
 },
 "nbformat": 4,
 "nbformat_minor": 2
}
